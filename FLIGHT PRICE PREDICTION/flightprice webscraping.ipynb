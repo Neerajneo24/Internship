{
 "cells": [
  {
   "cell_type": "code",
   "execution_count": 41,
   "id": "75a93de1",
   "metadata": {},
   "outputs": [],
   "source": [
    "\n",
    "# Importing Libraries/Dependencies\n",
    "import selenium\n",
    "import pandas as pd\n",
    "from selenium import webdriver\n",
    "from bs4 import BeautifulSoup\n",
    "import requests\n",
    "import time\n",
    "from selenium.common.exceptions import NoSuchElementException\n",
    "from selenium.webdriver.common.keys import Keys\n",
    "\n",
    "import warnings\n",
    "warnings.filterwarnings('ignore')"
   ]
  },
  {
   "cell_type": "code",
   "execution_count": 42,
   "id": "e8d7fcdc",
   "metadata": {},
   "outputs": [],
   "source": [
    "driver=webdriver.Chrome('chromedriver1.exe')\n"
   ]
  },
  {
   "cell_type": "code",
   "execution_count": 43,
   "id": "26ea563a",
   "metadata": {},
   "outputs": [],
   "source": [
    " driver.get(\"https://paytm.com/\")\n",
    "    #opening website from where we need to fetch data"
   ]
  },
  {
   "cell_type": "code",
   "execution_count": 44,
   "id": "959fa6b7",
   "metadata": {},
   "outputs": [],
   "source": [
    "for i in driver.find_elements_by_xpath('/html/body/div[1]/div/section[4]/div/div/div/div[2]'):\n",
    "    i.click()"
   ]
  },
  {
   "cell_type": "code",
   "execution_count": 45,
   "id": "31cd6e04",
   "metadata": {},
   "outputs": [],
   "source": [
    "driver.get(\"https://paytm.com/flights/flightSearch/DEL-Delhi/BOM-Mumbai/1/0/0/E/2022-09-29\")\n"
   ]
  },
  {
   "cell_type": "code",
   "execution_count": 46,
   "id": "833f4ee7",
   "metadata": {},
   "outputs": [],
   "source": [
    "urls=[]\n",
    "sou=[\"DEL-Delhi\",\"BOM-Mumbai\"]# passing source location\n",
    "location = [\"CCU-Kolkata\",\"PNQ-Pune\",\"MAA-Chennai\",\"HYD-Hyderabad\"] #passing destination \n",
    "# passing random date on which flight is schedule\n",
    "date_list=[\"2022-09-29\",\"2022-10-07\",\"2022-10-13\",\"2022-15-20\",\"2022-10-29\",\"2022-04-06\",\"2022-03-15\",\"2022-03-25\",\"2022-04-01\",\"2022-03-07\"]\n",
    "for i in range(0,2):\n",
    "    for j in range(0,4):\n",
    "            for k in range(0,10):\n",
    "                url=\"https://paytm.com/flights/flightSearch/\"+sou[i]+\"/\"+location[j]+\"/1/0/0/E/\"+date_list[k] #as url is a string we can manipulate it and make changes according to our needs\n",
    "                urls.append(url)"
   ]
  },
  {
   "cell_type": "code",
   "execution_count": 47,
   "id": "86da9052",
   "metadata": {},
   "outputs": [
    {
     "data": {
      "text/plain": [
       "80"
      ]
     },
     "execution_count": 47,
     "metadata": {},
     "output_type": "execute_result"
    }
   ],
   "source": [
    "len(urls)#checking len of url how many url we have fetched\n"
   ]
  },
  {
   "cell_type": "code",
   "execution_count": 53,
   "id": "e9c21437",
   "metadata": {},
   "outputs": [],
   "source": [
    "\n",
    "# making list of features i am going to fetch \n",
    "name=[]\n",
    "departure_time=[]\n",
    "arrival_time=[]\n",
    "dur=[]\n",
    "price=[]\n",
    "stop=[]\n",
    "place=[]\n",
    "date=[]\n",
    "for url in urls:\n",
    "    driver.get(url)\n",
    "    time.sleep(5)\n",
    "    \n",
    "    for k in  driver.find_elements_by_xpath('//div[@class=\"_3H-S _1Eia\"]'):\n",
    "        name.append(k.text)\n",
    "            \n",
    "    for k in  driver.find_elements_by_xpath('//div[@class=\"_3H-S\"]'):\n",
    "        departure_time.append(k.text)\n",
    "        \n",
    "    for i in driver.find_elements_by_xpath('//div[@class=\"_3H-S _1wD5\"]'):\n",
    "        arrival_time.append(i.text.split(\"\\n\")[0])\n",
    "        \n",
    "    for i in driver.find_elements_by_xpath('//div[@class=\"vY4t\"]'):\n",
    "        dur.append(i.text)\n",
    "        \n",
    "    for i in driver.find_elements_by_xpath('//div[@class=\"_1cxG\"]'):\n",
    "        price.append(int(i.text.replace(\",\",\"\")))\n",
    "        \n",
    "    for i in driver.find_elements_by_xpath('//div[@class=\"_7BOG\"]'):\n",
    "        stop.append(i.text.split()[0])\n",
    "        \n",
    "    for i in driver.find_elements_by_xpath('//div[@class=\"NqXj\"]'):\n",
    "        place.append(i.text)\n",
    "        \n",
    "    for i in range(0,len(driver.find_elements_by_xpath('//div[@class=\"_1cxG\"]'))):\n",
    "               date.append(url.split('/')[11])"
   ]
  },
  {
   "cell_type": "code",
   "execution_count": 54,
   "id": "fe447d82",
   "metadata": {},
   "outputs": [],
   "source": [
    "source=place[0::2]\n",
    "destination=place[1::2]"
   ]
  },
  {
   "cell_type": "code",
   "execution_count": 55,
   "id": "9f93f116",
   "metadata": {},
   "outputs": [
    {
     "name": "stdout",
     "output_type": "stream",
     "text": [
      "3926 3926 3926 3926 3926 3926 3926 3926\n"
     ]
    }
   ],
   "source": [
    "print(len(arrival_time),len(dur),len(price),len(name),len(departure_time),len(source),len(destination),len(date))\n"
   ]
  },
  {
   "cell_type": "code",
   "execution_count": 56,
   "id": "e249bb8b",
   "metadata": {},
   "outputs": [],
   "source": [
    "# this is the dataframe i have fetched from the above website\n",
    "flight=pd.DataFrame({\"Flight name\":name,\n",
    "                 \"Departure_time\":departure_time,\n",
    "                 \"Arrival_time\":arrival_time,\n",
    "                 \"Price\":price,\n",
    "                 \"Source\":source,\n",
    "                 \"Destination\":destination,\n",
    "                  \"Duration\":dur,\n",
    "                 \"No of stop\":stop,\n",
    "                 \"Date\":date})"
   ]
  },
  {
   "cell_type": "code",
   "execution_count": 57,
   "id": "8b8bfe4c",
   "metadata": {},
   "outputs": [
    {
     "data": {
      "text/html": [
       "<div>\n",
       "<style scoped>\n",
       "    .dataframe tbody tr th:only-of-type {\n",
       "        vertical-align: middle;\n",
       "    }\n",
       "\n",
       "    .dataframe tbody tr th {\n",
       "        vertical-align: top;\n",
       "    }\n",
       "\n",
       "    .dataframe thead th {\n",
       "        text-align: right;\n",
       "    }\n",
       "</style>\n",
       "<table border=\"1\" class=\"dataframe\">\n",
       "  <thead>\n",
       "    <tr style=\"text-align: right;\">\n",
       "      <th></th>\n",
       "      <th>Flight name</th>\n",
       "      <th>Departure_time</th>\n",
       "      <th>Arrival_time</th>\n",
       "      <th>Price</th>\n",
       "      <th>Source</th>\n",
       "      <th>Destination</th>\n",
       "      <th>Duration</th>\n",
       "      <th>No of stop</th>\n",
       "      <th>Date</th>\n",
       "    </tr>\n",
       "  </thead>\n",
       "  <tbody>\n",
       "    <tr>\n",
       "      <th>0</th>\n",
       "      <td>SpiceJet</td>\n",
       "      <td>21:20</td>\n",
       "      <td>23:25</td>\n",
       "      <td>11729</td>\n",
       "      <td>Delhi</td>\n",
       "      <td>Kolkata</td>\n",
       "      <td>2h 5m</td>\n",
       "      <td>Non</td>\n",
       "      <td>2022-09-29</td>\n",
       "    </tr>\n",
       "    <tr>\n",
       "      <th>1</th>\n",
       "      <td>IndiGo</td>\n",
       "      <td>06:05</td>\n",
       "      <td>08:10</td>\n",
       "      <td>14459</td>\n",
       "      <td>Delhi</td>\n",
       "      <td>Kolkata</td>\n",
       "      <td>2h 5m</td>\n",
       "      <td>Non</td>\n",
       "      <td>2022-09-29</td>\n",
       "    </tr>\n",
       "    <tr>\n",
       "      <th>2</th>\n",
       "      <td>IndiGo</td>\n",
       "      <td>22:20</td>\n",
       "      <td>00:15</td>\n",
       "      <td>15509</td>\n",
       "      <td>Delhi</td>\n",
       "      <td>Kolkata</td>\n",
       "      <td>1h 55m</td>\n",
       "      <td>Non</td>\n",
       "      <td>2022-09-29</td>\n",
       "    </tr>\n",
       "    <tr>\n",
       "      <th>3</th>\n",
       "      <td>IndiGo</td>\n",
       "      <td>18:40</td>\n",
       "      <td>20:45</td>\n",
       "      <td>15509</td>\n",
       "      <td>Delhi</td>\n",
       "      <td>Kolkata</td>\n",
       "      <td>2h 5m</td>\n",
       "      <td>Non</td>\n",
       "      <td>2022-09-29</td>\n",
       "    </tr>\n",
       "    <tr>\n",
       "      <th>4</th>\n",
       "      <td>SpiceJet</td>\n",
       "      <td>18:50</td>\n",
       "      <td>21:00</td>\n",
       "      <td>15929</td>\n",
       "      <td>Delhi</td>\n",
       "      <td>Kolkata</td>\n",
       "      <td>2h 10m</td>\n",
       "      <td>Non</td>\n",
       "      <td>2022-09-29</td>\n",
       "    </tr>\n",
       "    <tr>\n",
       "      <th>...</th>\n",
       "      <td>...</td>\n",
       "      <td>...</td>\n",
       "      <td>...</td>\n",
       "      <td>...</td>\n",
       "      <td>...</td>\n",
       "      <td>...</td>\n",
       "      <td>...</td>\n",
       "      <td>...</td>\n",
       "      <td>...</td>\n",
       "    </tr>\n",
       "    <tr>\n",
       "      <th>3921</th>\n",
       "      <td>Vistara</td>\n",
       "      <td>12:10</td>\n",
       "      <td>19:50</td>\n",
       "      <td>27488</td>\n",
       "      <td>Mumbai</td>\n",
       "      <td>Hyderabad</td>\n",
       "      <td>7h 40m</td>\n",
       "      <td>2</td>\n",
       "      <td>2022-10-29</td>\n",
       "    </tr>\n",
       "    <tr>\n",
       "      <th>3922</th>\n",
       "      <td>Air India</td>\n",
       "      <td>18:35</td>\n",
       "      <td>09:25</td>\n",
       "      <td>35942</td>\n",
       "      <td>Mumbai</td>\n",
       "      <td>Hyderabad</td>\n",
       "      <td>14h 50m</td>\n",
       "      <td>2</td>\n",
       "      <td>2022-10-29</td>\n",
       "    </tr>\n",
       "    <tr>\n",
       "      <th>3923</th>\n",
       "      <td>Air India</td>\n",
       "      <td>18:35</td>\n",
       "      <td>11:50</td>\n",
       "      <td>39092</td>\n",
       "      <td>Mumbai</td>\n",
       "      <td>Hyderabad</td>\n",
       "      <td>17h 15m</td>\n",
       "      <td>2</td>\n",
       "      <td>2022-10-29</td>\n",
       "    </tr>\n",
       "    <tr>\n",
       "      <th>3924</th>\n",
       "      <td>Air India</td>\n",
       "      <td>18:35</td>\n",
       "      <td>19:05</td>\n",
       "      <td>41507</td>\n",
       "      <td>Mumbai</td>\n",
       "      <td>Hyderabad</td>\n",
       "      <td>24h 30m</td>\n",
       "      <td>2</td>\n",
       "      <td>2022-10-29</td>\n",
       "    </tr>\n",
       "    <tr>\n",
       "      <th>3925</th>\n",
       "      <td>Air India</td>\n",
       "      <td>18:35</td>\n",
       "      <td>19:05</td>\n",
       "      <td>43292</td>\n",
       "      <td>Mumbai</td>\n",
       "      <td>Hyderabad</td>\n",
       "      <td>24h 30m</td>\n",
       "      <td>2</td>\n",
       "      <td>2022-10-29</td>\n",
       "    </tr>\n",
       "  </tbody>\n",
       "</table>\n",
       "<p>3926 rows × 9 columns</p>\n",
       "</div>"
      ],
      "text/plain": [
       "     Flight name Departure_time Arrival_time  Price  Source Destination  \\\n",
       "0       SpiceJet          21:20        23:25  11729   Delhi     Kolkata   \n",
       "1         IndiGo          06:05        08:10  14459   Delhi     Kolkata   \n",
       "2         IndiGo          22:20        00:15  15509   Delhi     Kolkata   \n",
       "3         IndiGo          18:40        20:45  15509   Delhi     Kolkata   \n",
       "4       SpiceJet          18:50        21:00  15929   Delhi     Kolkata   \n",
       "...          ...            ...          ...    ...     ...         ...   \n",
       "3921     Vistara          12:10        19:50  27488  Mumbai   Hyderabad   \n",
       "3922   Air India          18:35        09:25  35942  Mumbai   Hyderabad   \n",
       "3923   Air India          18:35        11:50  39092  Mumbai   Hyderabad   \n",
       "3924   Air India          18:35        19:05  41507  Mumbai   Hyderabad   \n",
       "3925   Air India          18:35        19:05  43292  Mumbai   Hyderabad   \n",
       "\n",
       "     Duration No of stop        Date  \n",
       "0       2h 5m        Non  2022-09-29  \n",
       "1       2h 5m        Non  2022-09-29  \n",
       "2      1h 55m        Non  2022-09-29  \n",
       "3       2h 5m        Non  2022-09-29  \n",
       "4      2h 10m        Non  2022-09-29  \n",
       "...       ...        ...         ...  \n",
       "3921   7h 40m          2  2022-10-29  \n",
       "3922  14h 50m          2  2022-10-29  \n",
       "3923  17h 15m          2  2022-10-29  \n",
       "3924  24h 30m          2  2022-10-29  \n",
       "3925  24h 30m          2  2022-10-29  \n",
       "\n",
       "[3926 rows x 9 columns]"
      ]
     },
     "execution_count": 57,
     "metadata": {},
     "output_type": "execute_result"
    }
   ],
   "source": [
    "flight\n"
   ]
  },
  {
   "cell_type": "code",
   "execution_count": 59,
   "id": "7d914f42",
   "metadata": {},
   "outputs": [],
   "source": [
    "flight.to_csv(\"flight_fare1.csv\")#saving dataframe to csv format\n"
   ]
  },
  {
   "cell_type": "code",
   "execution_count": null,
   "id": "9232e328",
   "metadata": {},
   "outputs": [],
   "source": []
  }
 ],
 "metadata": {
  "kernelspec": {
   "display_name": "Python 3 (ipykernel)",
   "language": "python",
   "name": "python3"
  },
  "language_info": {
   "codemirror_mode": {
    "name": "ipython",
    "version": 3
   },
   "file_extension": ".py",
   "mimetype": "text/x-python",
   "name": "python",
   "nbconvert_exporter": "python",
   "pygments_lexer": "ipython3",
   "version": "3.9.12"
  }
 },
 "nbformat": 4,
 "nbformat_minor": 5
}
