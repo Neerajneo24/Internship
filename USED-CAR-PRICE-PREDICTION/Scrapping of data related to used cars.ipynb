{
 "cells": [
  {
   "cell_type": "markdown",
   "id": "a0454f06",
   "metadata": {},
   "source": [
    "# FLIP ROBO TECHNOLOGIES\n"
   ]
  },
  {
   "cell_type": "markdown",
   "id": "72aec9d7",
   "metadata": {},
   "source": [
    "# USED CAR PRICE PREDICTION\n"
   ]
  },
  {
   "cell_type": "markdown",
   "id": "0314b04d",
   "metadata": {},
   "source": [
    "# Scrapping of data related to used cars\n"
   ]
  },
  {
   "cell_type": "code",
   "execution_count": 1,
   "id": "b6b56000",
   "metadata": {},
   "outputs": [],
   "source": [
    "# Importing Libraries/Dependencies\n",
    "import selenium\n",
    "import pandas as pd\n",
    "import numpy as np\n",
    "import time\n",
    "from bs4 import BeautifulSoup\n",
    "from selenium import webdriver \n",
    "import requests\n",
    "import re\n",
    "from selenium.webdriver.support.ui import WebDriverWait\n",
    "from selenium.common.exceptions import StaleElementReferenceException, NoSuchElementException\n",
    "import warnings\n",
    "warnings.filterwarnings('ignore')\n",
    "from selenium.webdriver.common.by import By"
   ]
  },
  {
   "cell_type": "code",
   "execution_count": 2,
   "id": "1f160f73",
   "metadata": {},
   "outputs": [],
   "source": [
    "# Connecting to the webdriver\n",
    "driver = webdriver.Chrome('chromedriver1.exe')"
   ]
  },
  {
   "cell_type": "code",
   "execution_count": 3,
   "id": "585d882a",
   "metadata": {},
   "outputs": [],
   "source": [
    "# Getting the webpage of mentioned url\n",
    "page_url = \"https://www.cardekho.com/\"\n",
    "driver.get(page_url)\n",
    "driver.maximize_window()\n",
    "time.sleep(3)"
   ]
  },
  {
   "cell_type": "code",
   "execution_count": 5,
   "id": "e32bf063",
   "metadata": {},
   "outputs": [],
   "source": [
    "# Fetching urls to navigate used cars page \n",
    "usedcars = driver.find_element(By.XPATH,\"/html/body/div[2]/div/div[1]/div/div[1]/div/div[2]/a\")\n",
    "usedcars = usedcars.get_attribute('href')"
   ]
  },
  {
   "cell_type": "code",
   "execution_count": 6,
   "id": "1efc565a",
   "metadata": {},
   "outputs": [
    {
     "data": {
      "text/plain": [
       "'https://www.cardekho.com/used-cars+in+India'"
      ]
     },
     "execution_count": 6,
     "metadata": {},
     "output_type": "execute_result"
    }
   ],
   "source": [
    "usedcars"
   ]
  },
  {
   "cell_type": "code",
   "execution_count": 7,
   "id": "0cef39b8",
   "metadata": {},
   "outputs": [],
   "source": [
    "# Getting used cars urls\n",
    "driver.get(usedcars)\n",
    "time.sleep(3)"
   ]
  },
  {
   "cell_type": "code",
   "execution_count": 8,
   "id": "6bbe1760",
   "metadata": {},
   "outputs": [],
   "source": [
    "cities=driver.find_elements(By.XPATH,'//a[@class=\"CityIconBoxCard\"]')\n",
    "city=[]"
   ]
  },
  {
   "cell_type": "code",
   "execution_count": 9,
   "id": "56b25523",
   "metadata": {},
   "outputs": [],
   "source": [
    "\n",
    "for i in cities:\n",
    "    city.append(i.get_attribute('href'))"
   ]
  },
  {
   "cell_type": "code",
   "execution_count": 10,
   "id": "bd9c335a",
   "metadata": {},
   "outputs": [
    {
     "data": {
      "text/plain": [
       "['https://www.cardekho.com/used-cars+in+ahmedabad',\n",
       " 'https://www.cardekho.com/used-cars+in+bangalore',\n",
       " 'https://www.cardekho.com/used-cars+in+mumbai',\n",
       " 'https://www.cardekho.com/used-cars+in+jaipur',\n",
       " 'https://www.cardekho.com/used-cars+in+gurgaon',\n",
       " 'https://www.cardekho.com/used-cars+in+delhi-ncr',\n",
       " 'https://www.cardekho.com/used-cars+in+chennai',\n",
       " 'https://www.cardekho.com/used-cars+in+pune',\n",
       " 'https://www.cardekho.com/used-cars+in+hyderabad',\n",
       " 'https://www.cardekho.com/used-cars+in+kolkata',\n",
       " 'https://www.cardekho.com/used-cars+in+agra',\n",
       " 'https://www.cardekho.com/used-cars+in+lucknow']"
      ]
     },
     "execution_count": 10,
     "metadata": {},
     "output_type": "execute_result"
    }
   ],
   "source": [
    "city"
   ]
  },
  {
   "cell_type": "code",
   "execution_count": 11,
   "id": "7574d0ab",
   "metadata": {},
   "outputs": [
    {
     "ename": "WebDriverException",
     "evalue": "Message: disconnected: not connected to DevTools\n  (Session info: chrome=105.0.5195.102)\nStacktrace:\nBacktrace:\n\tOrdinal0 [0x0046DF13+2219795]\n\tOrdinal0 [0x00402841+1779777]\n\tOrdinal0 [0x0031423D+803389]\n\tOrdinal0 [0x00306295+746133]\n\tOrdinal0 [0x00306528+746792]\n\tOrdinal0 [0x0031D221+840225]\n\tOrdinal0 [0x0031680B+813067]\n\tOrdinal0 [0x0031632F+811823]\n\tOrdinal0 [0x00316B7F+813951]\n\tOrdinal0 [0x0031755F+816479]\n\tOrdinal0 [0x0036FC1B+1178651]\n\tOrdinal0 [0x0035E7FC+1107964]\n\tOrdinal0 [0x0036F192+1175954]\n\tOrdinal0 [0x0035E616+1107478]\n\tOrdinal0 [0x00337F89+950153]\n\tOrdinal0 [0x00338F56+954198]\n\tGetHandleVerifier [0x00762CB2+3040210]\n\tGetHandleVerifier [0x00752BB4+2974420]\n\tGetHandleVerifier [0x00506A0A+565546]\n\tGetHandleVerifier [0x00505680+560544]\n\tOrdinal0 [0x00409A5C+1808988]\n\tOrdinal0 [0x0040E3A8+1827752]\n\tOrdinal0 [0x0040E495+1827989]\n\tOrdinal0 [0x004180A4+1867940]\n\tBaseThreadInitThunk [0x76DA6739+25]\n\tRtlGetFullPathName_UEx [0x77968FD2+1218]\n\tRtlGetFullPathName_UEx [0x77968F9D+1165]\n",
     "output_type": "error",
     "traceback": [
      "\u001b[1;31m---------------------------------------------------------------------------\u001b[0m",
      "\u001b[1;31mWebDriverException\u001b[0m                        Traceback (most recent call last)",
      "Input \u001b[1;32mIn [11]\u001b[0m, in \u001b[0;36m<cell line: 7>\u001b[1;34m()\u001b[0m\n\u001b[0;32m     14\u001b[0m     time\u001b[38;5;241m.\u001b[39msleep(\u001b[38;5;241m3\u001b[39m)\n\u001b[0;32m     16\u001b[0m \u001b[38;5;28;01mfor\u001b[39;00m j \u001b[38;5;129;01min\u001b[39;00m driver\u001b[38;5;241m.\u001b[39mfind_elements(By\u001b[38;5;241m.\u001b[39mXPATH,\u001b[38;5;124m'\u001b[39m\u001b[38;5;124m//div[@class=\u001b[39m\u001b[38;5;124m\"\u001b[39m\u001b[38;5;124mgsc_col-xs-7  carsName\u001b[39m\u001b[38;5;124m\"\u001b[39m\u001b[38;5;124m]//a\u001b[39m\u001b[38;5;124m'\u001b[39m):\n\u001b[1;32m---> 17\u001b[0m     cars\u001b[38;5;241m.\u001b[39mappend(\u001b[43mj\u001b[49m\u001b[38;5;241;43m.\u001b[39;49m\u001b[43mget_attribute\u001b[49m\u001b[43m(\u001b[49m\u001b[38;5;124;43m'\u001b[39;49m\u001b[38;5;124;43mhref\u001b[39;49m\u001b[38;5;124;43m'\u001b[39;49m\u001b[43m)\u001b[49m)\n\u001b[0;32m     18\u001b[0m     Carbrand\u001b[38;5;241m.\u001b[39mappend(j\u001b[38;5;241m.\u001b[39mtext)\n\u001b[0;32m     19\u001b[0m \u001b[38;5;66;03m# Fetching price of the cars\u001b[39;00m\n",
      "File \u001b[1;32m~\\anaconda3\\lib\\site-packages\\selenium\\webdriver\\remote\\webelement.py:173\u001b[0m, in \u001b[0;36mWebElement.get_attribute\u001b[1;34m(self, name)\u001b[0m\n\u001b[0;32m    171\u001b[0m \u001b[38;5;28;01mif\u001b[39;00m getAttribute_js \u001b[38;5;129;01mis\u001b[39;00m \u001b[38;5;28;01mNone\u001b[39;00m:\n\u001b[0;32m    172\u001b[0m     _load_js()\n\u001b[1;32m--> 173\u001b[0m attribute_value \u001b[38;5;241m=\u001b[39m \u001b[38;5;28;43mself\u001b[39;49m\u001b[38;5;241;43m.\u001b[39;49m\u001b[43mparent\u001b[49m\u001b[38;5;241;43m.\u001b[39;49m\u001b[43mexecute_script\u001b[49m\u001b[43m(\u001b[49m\n\u001b[0;32m    174\u001b[0m \u001b[43m    \u001b[49m\u001b[38;5;124;43m\"\u001b[39;49m\u001b[38;5;124;43mreturn (\u001b[39;49m\u001b[38;5;132;43;01m%s\u001b[39;49;00m\u001b[38;5;124;43m).apply(null, arguments);\u001b[39;49m\u001b[38;5;124;43m\"\u001b[39;49m\u001b[43m \u001b[49m\u001b[38;5;241;43m%\u001b[39;49m\u001b[43m \u001b[49m\u001b[43mgetAttribute_js\u001b[49m\u001b[43m,\u001b[49m\n\u001b[0;32m    175\u001b[0m \u001b[43m    \u001b[49m\u001b[38;5;28;43mself\u001b[39;49m\u001b[43m,\u001b[49m\u001b[43m \u001b[49m\u001b[43mname\u001b[49m\u001b[43m)\u001b[49m\n\u001b[0;32m    176\u001b[0m \u001b[38;5;28;01mreturn\u001b[39;00m attribute_value\n",
      "File \u001b[1;32m~\\anaconda3\\lib\\site-packages\\selenium\\webdriver\\remote\\webdriver.py:884\u001b[0m, in \u001b[0;36mWebDriver.execute_script\u001b[1;34m(self, script, *args)\u001b[0m\n\u001b[0;32m    881\u001b[0m converted_args \u001b[38;5;241m=\u001b[39m \u001b[38;5;28mlist\u001b[39m(args)\n\u001b[0;32m    882\u001b[0m command \u001b[38;5;241m=\u001b[39m Command\u001b[38;5;241m.\u001b[39mW3C_EXECUTE_SCRIPT\n\u001b[1;32m--> 884\u001b[0m \u001b[38;5;28;01mreturn\u001b[39;00m \u001b[38;5;28;43mself\u001b[39;49m\u001b[38;5;241;43m.\u001b[39;49m\u001b[43mexecute\u001b[49m\u001b[43m(\u001b[49m\u001b[43mcommand\u001b[49m\u001b[43m,\u001b[49m\u001b[43m \u001b[49m\u001b[43m{\u001b[49m\n\u001b[0;32m    885\u001b[0m \u001b[43m    \u001b[49m\u001b[38;5;124;43m'\u001b[39;49m\u001b[38;5;124;43mscript\u001b[39;49m\u001b[38;5;124;43m'\u001b[39;49m\u001b[43m:\u001b[49m\u001b[43m \u001b[49m\u001b[43mscript\u001b[49m\u001b[43m,\u001b[49m\n\u001b[0;32m    886\u001b[0m \u001b[43m    \u001b[49m\u001b[38;5;124;43m'\u001b[39;49m\u001b[38;5;124;43margs\u001b[39;49m\u001b[38;5;124;43m'\u001b[39;49m\u001b[43m:\u001b[49m\u001b[43m \u001b[49m\u001b[43mconverted_args\u001b[49m\u001b[43m}\u001b[49m\u001b[43m)\u001b[49m[\u001b[38;5;124m'\u001b[39m\u001b[38;5;124mvalue\u001b[39m\u001b[38;5;124m'\u001b[39m]\n",
      "File \u001b[1;32m~\\anaconda3\\lib\\site-packages\\selenium\\webdriver\\remote\\webdriver.py:430\u001b[0m, in \u001b[0;36mWebDriver.execute\u001b[1;34m(self, driver_command, params)\u001b[0m\n\u001b[0;32m    428\u001b[0m response \u001b[38;5;241m=\u001b[39m \u001b[38;5;28mself\u001b[39m\u001b[38;5;241m.\u001b[39mcommand_executor\u001b[38;5;241m.\u001b[39mexecute(driver_command, params)\n\u001b[0;32m    429\u001b[0m \u001b[38;5;28;01mif\u001b[39;00m response:\n\u001b[1;32m--> 430\u001b[0m     \u001b[38;5;28;43mself\u001b[39;49m\u001b[38;5;241;43m.\u001b[39;49m\u001b[43merror_handler\u001b[49m\u001b[38;5;241;43m.\u001b[39;49m\u001b[43mcheck_response\u001b[49m\u001b[43m(\u001b[49m\u001b[43mresponse\u001b[49m\u001b[43m)\u001b[49m\n\u001b[0;32m    431\u001b[0m     response[\u001b[38;5;124m'\u001b[39m\u001b[38;5;124mvalue\u001b[39m\u001b[38;5;124m'\u001b[39m] \u001b[38;5;241m=\u001b[39m \u001b[38;5;28mself\u001b[39m\u001b[38;5;241m.\u001b[39m_unwrap_value(\n\u001b[0;32m    432\u001b[0m         response\u001b[38;5;241m.\u001b[39mget(\u001b[38;5;124m'\u001b[39m\u001b[38;5;124mvalue\u001b[39m\u001b[38;5;124m'\u001b[39m, \u001b[38;5;28;01mNone\u001b[39;00m))\n\u001b[0;32m    433\u001b[0m     \u001b[38;5;28;01mreturn\u001b[39;00m response\n",
      "File \u001b[1;32m~\\anaconda3\\lib\\site-packages\\selenium\\webdriver\\remote\\errorhandler.py:247\u001b[0m, in \u001b[0;36mErrorHandler.check_response\u001b[1;34m(self, response)\u001b[0m\n\u001b[0;32m    245\u001b[0m         alert_text \u001b[38;5;241m=\u001b[39m value[\u001b[38;5;124m'\u001b[39m\u001b[38;5;124malert\u001b[39m\u001b[38;5;124m'\u001b[39m]\u001b[38;5;241m.\u001b[39mget(\u001b[38;5;124m'\u001b[39m\u001b[38;5;124mtext\u001b[39m\u001b[38;5;124m'\u001b[39m)\n\u001b[0;32m    246\u001b[0m     \u001b[38;5;28;01mraise\u001b[39;00m exception_class(message, screen, stacktrace, alert_text)  \u001b[38;5;66;03m# type: ignore[call-arg]  # mypy is not smart enough here\u001b[39;00m\n\u001b[1;32m--> 247\u001b[0m \u001b[38;5;28;01mraise\u001b[39;00m exception_class(message, screen, stacktrace)\n",
      "\u001b[1;31mWebDriverException\u001b[0m: Message: disconnected: not connected to DevTools\n  (Session info: chrome=105.0.5195.102)\nStacktrace:\nBacktrace:\n\tOrdinal0 [0x0046DF13+2219795]\n\tOrdinal0 [0x00402841+1779777]\n\tOrdinal0 [0x0031423D+803389]\n\tOrdinal0 [0x00306295+746133]\n\tOrdinal0 [0x00306528+746792]\n\tOrdinal0 [0x0031D221+840225]\n\tOrdinal0 [0x0031680B+813067]\n\tOrdinal0 [0x0031632F+811823]\n\tOrdinal0 [0x00316B7F+813951]\n\tOrdinal0 [0x0031755F+816479]\n\tOrdinal0 [0x0036FC1B+1178651]\n\tOrdinal0 [0x0035E7FC+1107964]\n\tOrdinal0 [0x0036F192+1175954]\n\tOrdinal0 [0x0035E616+1107478]\n\tOrdinal0 [0x00337F89+950153]\n\tOrdinal0 [0x00338F56+954198]\n\tGetHandleVerifier [0x00762CB2+3040210]\n\tGetHandleVerifier [0x00752BB4+2974420]\n\tGetHandleVerifier [0x00506A0A+565546]\n\tGetHandleVerifier [0x00505680+560544]\n\tOrdinal0 [0x00409A5C+1808988]\n\tOrdinal0 [0x0040E3A8+1827752]\n\tOrdinal0 [0x0040E495+1827989]\n\tOrdinal0 [0x004180A4+1867940]\n\tBaseThreadInitThunk [0x76DA6739+25]\n\tRtlGetFullPathName_UEx [0x77968FD2+1218]\n\tRtlGetFullPathName_UEx [0x77968F9D+1165]\n"
     ]
    }
   ],
   "source": [
    "Carbrand = []\n",
    "carprice = []\n",
    "kmsdriven = []\n",
    "fuel = []\n",
    "transmission = []\n",
    "cars=[]\n",
    "for i in city:\n",
    "    driver.get(i)\n",
    "    time.sleep(1)\n",
    "    for i in range(100):\n",
    "        driver.execute_script(\"window.scrollTo(0,1500);\")\n",
    "\n",
    "        driver.execute_script(\"window.scrollTo(0, document.body.scrollHeight)\")\n",
    "        time.sleep(3)\n",
    "    \n",
    "    for j in driver.find_elements(By.XPATH,'//div[@class=\"gsc_col-xs-7  carsName\"]//a'):\n",
    "        cars.append(j.get_attribute('href'))\n",
    "        Carbrand.append(j.text)\n",
    "    # Fetching price of the cars\n",
    "    for i in driver.find_elements(By.XPATH,'//span[@class=\"amnt \"]'):\n",
    "        carprice.append(i.text)\n",
    "    \n",
    "    # Fetching driven kilometers of the used cars\n",
    "    for i in driver.find_elements(By.XPATH,'//div[@class=\"truncate dotlist-2\"]//div[1]'):\n",
    "        kmsdriven.append(i.text)\n",
    "    \n",
    "    # Fetching fuel type of the cars\n",
    "    for i in driver.find_elements(By.XPATH,'//div[@class=\"truncate dotlist-2\"]//div[2]'):\n",
    "        fuel.append(i.text)\n",
    "    \n",
    "    # Fetching transmission of the cars\n",
    "    for i in driver.find_elements(By.XPATH,'//div[@class=\"truncate dotlist-2\"]//div[3]'):\n",
    "        transmission.append(i.text)"
   ]
  },
  {
   "cell_type": "code",
   "execution_count": 12,
   "id": "cdcc483c",
   "metadata": {},
   "outputs": [
    {
     "data": {
      "text/plain": [
       "(4538, 4538, 2609, 2609, 2609, 2609)"
      ]
     },
     "execution_count": 12,
     "metadata": {},
     "output_type": "execute_result"
    }
   ],
   "source": [
    "len(cars),len(Carbrand),len(carprice),len(kmsdriven),len(fuel),len(transmission)"
   ]
  },
  {
   "cell_type": "code",
   "execution_count": 13,
   "id": "3cecfde0",
   "metadata": {},
   "outputs": [],
   "source": [
    "# Creating empty list to scrap the specification of the used cars\n",
    "seats = []\n",
    "milage = []\n",
    "color = []\n",
    "max_power = []\n",
    "front_brake = []\n",
    "rear_brake = []\n",
    "cargo_vol = []\n",
    "height = []\n",
    "width = []\n",
    "length = []\n",
    "weight = []\n",
    "insp_score = []\n",
    "top_speed = []\n",
    "engine_disp=[]"
   ]
  },
  {
   "cell_type": "code",
   "execution_count": 14,
   "id": "4f068cda",
   "metadata": {},
   "outputs": [
    {
     "ename": "WebDriverException",
     "evalue": "Message: disconnected: unable to send message to renderer\n  (Session info: chrome=105.0.5195.102)\nStacktrace:\nBacktrace:\n\tOrdinal0 [0x0046DF13+2219795]\n\tOrdinal0 [0x00402841+1779777]\n\tOrdinal0 [0x0031423D+803389]\n\tOrdinal0 [0x00306191+745873]\n\tOrdinal0 [0x00306644+747076]\n\tOrdinal0 [0x0030595D+743773]\n\tOrdinal0 [0x003055F9+742905]\n\tOrdinal0 [0x00315610+808464]\n\tOrdinal0 [0x0036E93A+1173818]\n\tOrdinal0 [0x0035E616+1107478]\n\tOrdinal0 [0x00337F89+950153]\n\tOrdinal0 [0x00338F56+954198]\n\tGetHandleVerifier [0x00762CB2+3040210]\n\tGetHandleVerifier [0x00752BB4+2974420]\n\tGetHandleVerifier [0x00506A0A+565546]\n\tGetHandleVerifier [0x00505680+560544]\n\tOrdinal0 [0x00409A5C+1808988]\n\tOrdinal0 [0x0040E3A8+1827752]\n\tOrdinal0 [0x0040E495+1827989]\n\tOrdinal0 [0x004180A4+1867940]\n\tBaseThreadInitThunk [0x76DA6739+25]\n\tRtlGetFullPathName_UEx [0x77968FD2+1218]\n\tRtlGetFullPathName_UEx [0x77968F9D+1165]\n",
     "output_type": "error",
     "traceback": [
      "\u001b[1;31m---------------------------------------------------------------------------\u001b[0m",
      "\u001b[1;31mWebDriverException\u001b[0m                        Traceback (most recent call last)",
      "Input \u001b[1;32mIn [14]\u001b[0m, in \u001b[0;36m<cell line: 2>\u001b[1;34m()\u001b[0m\n\u001b[0;32m     15\u001b[0m \u001b[38;5;66;03m# Fetching engine displacement of the cars\u001b[39;00m\n\u001b[0;32m     16\u001b[0m \u001b[38;5;28;01mtry\u001b[39;00m:\n\u001b[1;32m---> 17\u001b[0m     eng \u001b[38;5;241m=\u001b[39m \u001b[43mdriver\u001b[49m\u001b[38;5;241;43m.\u001b[39;49m\u001b[43mfind_element\u001b[49m\u001b[43m(\u001b[49m\u001b[43mBy\u001b[49m\u001b[38;5;241;43m.\u001b[39;49m\u001b[43mXPATH\u001b[49m\u001b[43m,\u001b[49m\u001b[38;5;124;43m\"\u001b[39;49m\u001b[38;5;124;43m//*[text()=\u001b[39;49m\u001b[38;5;124;43m'\u001b[39;49m\u001b[38;5;124;43mEngine\u001b[39;49m\u001b[38;5;124;43m'\u001b[39;49m\u001b[38;5;124;43m]/following-sibling::div\u001b[39;49m\u001b[38;5;124;43m\"\u001b[39;49m\u001b[43m)\u001b[49m \n\u001b[0;32m     18\u001b[0m     engine_disp\u001b[38;5;241m.\u001b[39mappend(eng\u001b[38;5;241m.\u001b[39mtext\u001b[38;5;241m.\u001b[39mreplace(\u001b[38;5;124m'\u001b[39m\u001b[38;5;124mCC\u001b[39m\u001b[38;5;124m'\u001b[39m,\u001b[38;5;124m'\u001b[39m\u001b[38;5;124m'\u001b[39m))\n\u001b[0;32m     19\u001b[0m \u001b[38;5;28;01mexcept\u001b[39;00m NoSuchElementException:\n",
      "File \u001b[1;32m~\\anaconda3\\lib\\site-packages\\selenium\\webdriver\\remote\\webdriver.py:1251\u001b[0m, in \u001b[0;36mWebDriver.find_element\u001b[1;34m(self, by, value)\u001b[0m\n\u001b[0;32m   1248\u001b[0m     by \u001b[38;5;241m=\u001b[39m By\u001b[38;5;241m.\u001b[39mCSS_SELECTOR\n\u001b[0;32m   1249\u001b[0m     value \u001b[38;5;241m=\u001b[39m \u001b[38;5;124m'\u001b[39m\u001b[38;5;124m[name=\u001b[39m\u001b[38;5;124m\"\u001b[39m\u001b[38;5;132;01m%s\u001b[39;00m\u001b[38;5;124m\"\u001b[39m\u001b[38;5;124m]\u001b[39m\u001b[38;5;124m'\u001b[39m \u001b[38;5;241m%\u001b[39m value\n\u001b[1;32m-> 1251\u001b[0m \u001b[38;5;28;01mreturn\u001b[39;00m \u001b[38;5;28;43mself\u001b[39;49m\u001b[38;5;241;43m.\u001b[39;49m\u001b[43mexecute\u001b[49m\u001b[43m(\u001b[49m\u001b[43mCommand\u001b[49m\u001b[38;5;241;43m.\u001b[39;49m\u001b[43mFIND_ELEMENT\u001b[49m\u001b[43m,\u001b[49m\u001b[43m \u001b[49m\u001b[43m{\u001b[49m\n\u001b[0;32m   1252\u001b[0m \u001b[43m    \u001b[49m\u001b[38;5;124;43m'\u001b[39;49m\u001b[38;5;124;43musing\u001b[39;49m\u001b[38;5;124;43m'\u001b[39;49m\u001b[43m:\u001b[49m\u001b[43m \u001b[49m\u001b[43mby\u001b[49m\u001b[43m,\u001b[49m\n\u001b[0;32m   1253\u001b[0m \u001b[43m    \u001b[49m\u001b[38;5;124;43m'\u001b[39;49m\u001b[38;5;124;43mvalue\u001b[39;49m\u001b[38;5;124;43m'\u001b[39;49m\u001b[43m:\u001b[49m\u001b[43m \u001b[49m\u001b[43mvalue\u001b[49m\u001b[43m}\u001b[49m\u001b[43m)\u001b[49m[\u001b[38;5;124m'\u001b[39m\u001b[38;5;124mvalue\u001b[39m\u001b[38;5;124m'\u001b[39m]\n",
      "File \u001b[1;32m~\\anaconda3\\lib\\site-packages\\selenium\\webdriver\\remote\\webdriver.py:430\u001b[0m, in \u001b[0;36mWebDriver.execute\u001b[1;34m(self, driver_command, params)\u001b[0m\n\u001b[0;32m    428\u001b[0m response \u001b[38;5;241m=\u001b[39m \u001b[38;5;28mself\u001b[39m\u001b[38;5;241m.\u001b[39mcommand_executor\u001b[38;5;241m.\u001b[39mexecute(driver_command, params)\n\u001b[0;32m    429\u001b[0m \u001b[38;5;28;01mif\u001b[39;00m response:\n\u001b[1;32m--> 430\u001b[0m     \u001b[38;5;28;43mself\u001b[39;49m\u001b[38;5;241;43m.\u001b[39;49m\u001b[43merror_handler\u001b[49m\u001b[38;5;241;43m.\u001b[39;49m\u001b[43mcheck_response\u001b[49m\u001b[43m(\u001b[49m\u001b[43mresponse\u001b[49m\u001b[43m)\u001b[49m\n\u001b[0;32m    431\u001b[0m     response[\u001b[38;5;124m'\u001b[39m\u001b[38;5;124mvalue\u001b[39m\u001b[38;5;124m'\u001b[39m] \u001b[38;5;241m=\u001b[39m \u001b[38;5;28mself\u001b[39m\u001b[38;5;241m.\u001b[39m_unwrap_value(\n\u001b[0;32m    432\u001b[0m         response\u001b[38;5;241m.\u001b[39mget(\u001b[38;5;124m'\u001b[39m\u001b[38;5;124mvalue\u001b[39m\u001b[38;5;124m'\u001b[39m, \u001b[38;5;28;01mNone\u001b[39;00m))\n\u001b[0;32m    433\u001b[0m     \u001b[38;5;28;01mreturn\u001b[39;00m response\n",
      "File \u001b[1;32m~\\anaconda3\\lib\\site-packages\\selenium\\webdriver\\remote\\errorhandler.py:247\u001b[0m, in \u001b[0;36mErrorHandler.check_response\u001b[1;34m(self, response)\u001b[0m\n\u001b[0;32m    245\u001b[0m         alert_text \u001b[38;5;241m=\u001b[39m value[\u001b[38;5;124m'\u001b[39m\u001b[38;5;124malert\u001b[39m\u001b[38;5;124m'\u001b[39m]\u001b[38;5;241m.\u001b[39mget(\u001b[38;5;124m'\u001b[39m\u001b[38;5;124mtext\u001b[39m\u001b[38;5;124m'\u001b[39m)\n\u001b[0;32m    246\u001b[0m     \u001b[38;5;28;01mraise\u001b[39;00m exception_class(message, screen, stacktrace, alert_text)  \u001b[38;5;66;03m# type: ignore[call-arg]  # mypy is not smart enough here\u001b[39;00m\n\u001b[1;32m--> 247\u001b[0m \u001b[38;5;28;01mraise\u001b[39;00m exception_class(message, screen, stacktrace)\n",
      "\u001b[1;31mWebDriverException\u001b[0m: Message: disconnected: unable to send message to renderer\n  (Session info: chrome=105.0.5195.102)\nStacktrace:\nBacktrace:\n\tOrdinal0 [0x0046DF13+2219795]\n\tOrdinal0 [0x00402841+1779777]\n\tOrdinal0 [0x0031423D+803389]\n\tOrdinal0 [0x00306191+745873]\n\tOrdinal0 [0x00306644+747076]\n\tOrdinal0 [0x0030595D+743773]\n\tOrdinal0 [0x003055F9+742905]\n\tOrdinal0 [0x00315610+808464]\n\tOrdinal0 [0x0036E93A+1173818]\n\tOrdinal0 [0x0035E616+1107478]\n\tOrdinal0 [0x00337F89+950153]\n\tOrdinal0 [0x00338F56+954198]\n\tGetHandleVerifier [0x00762CB2+3040210]\n\tGetHandleVerifier [0x00752BB4+2974420]\n\tGetHandleVerifier [0x00506A0A+565546]\n\tGetHandleVerifier [0x00505680+560544]\n\tOrdinal0 [0x00409A5C+1808988]\n\tOrdinal0 [0x0040E3A8+1827752]\n\tOrdinal0 [0x0040E495+1827989]\n\tOrdinal0 [0x004180A4+1867940]\n\tBaseThreadInitThunk [0x76DA6739+25]\n\tRtlGetFullPathName_UEx [0x77968FD2+1218]\n\tRtlGetFullPathName_UEx [0x77968F9D+1165]\n"
     ]
    }
   ],
   "source": [
    "# for loop to get car urls\n",
    "for i in cars:\n",
    "    driver.get(i)\n",
    "    time.sleep(2)\n",
    "    \n",
    "    # Clicking on view all specifications button to view more features of the cars\n",
    "    try:\n",
    "        view_more = driver.find_element(By.XPATH,\"//*[text() = 'View All Specifications' or text() = 'View More']\")\n",
    "        driver.execute_script(\"arguments[0].scrollIntoView();\", view_more)\n",
    "        driver.execute_script(\"arguments[0].click();\", view_more)\n",
    "        time.sleep(2)\n",
    "    except NoSuchElementException:\n",
    "        pass\n",
    "    \n",
    "    # Fetching engine displacement of the cars\n",
    "    try:\n",
    "        eng = driver.find_element(By.XPATH,\"//*[text()='Engine']/following-sibling::div\") \n",
    "        engine_disp.append(eng.text.replace('CC',''))\n",
    "    except NoSuchElementException:\n",
    "        engine_disp.append('-')\n",
    "    \n",
    "    # Fetching Mileage of the cars\n",
    "    try:\n",
    "        mil = driver.find_element(By.XPATH,\"//*[text()='Mileage']/following-sibling::div\")\n",
    "        milage.append(mil.text.split(\" \")[0])\n",
    "    except NoSuchElementException:\n",
    "        milage.append('-')\n",
    "        \n",
    "    # Fetching seating capacity of the cars\n",
    "    try:\n",
    "        sts = driver.find_element(By.XPATH,\"//*[text()='Seating Capacity']/following-sibling::div\")\n",
    "        seats.append(sts.text)\n",
    "    except NoSuchElementException:\n",
    "        seats.append('-')\n",
    "        \n",
    "    # Fetching colour of the cars\n",
    "    try:\n",
    "        clr = driver.find_element(By.XPATH,\"//*[text()='Color']/following-sibling::div\")\n",
    "        color.append(clr.text)\n",
    "    except NoSuchElementException:\n",
    "        color.append('-')\n",
    "        \n",
    "    # Fetching Maximum power of the cars\n",
    "    try:\n",
    "        pwr = driver.find_element(By.XPATH,\"//*[text()='Max Power']/following-sibling::div\")\n",
    "        max_power.append(pwr.text.replace('bhp',''))\n",
    "    except NoSuchElementException:\n",
    "        max_power.append('-')\n",
    "        \n",
    "    # Fetching Front brake type of the cars\n",
    "    try:\n",
    "        fbrk = driver.find_element(By.XPATH,\"//*[text()='Front Brake Type']/following-sibling::div\")\n",
    "        front_brake.append(fbrk.text)\n",
    "    except NoSuchElementException:\n",
    "        front_brake.append('-')\n",
    "        \n",
    "    # Fetching rear brake type of the cars\n",
    "    try:\n",
    "        rbrk = driver.find_element(By.XPATH,\"//*[text()='Rear Brake Type']/following-sibling::div\")\n",
    "        rear_brake.append(rbrk.text)\n",
    "    except NoSuchElementException:\n",
    "        rear_brake.append('-')\n",
    "        \n",
    "    # Fetching details of cargo volume of the cars\n",
    "    try:\n",
    "        vol = driver.find_element(By.XPATH,\"//*[text()='Cargo Volumn']/following-sibling::div\")\n",
    "        cargo_vol.append(vol.text)\n",
    "    except NoSuchElementException:\n",
    "        cargo_vol.append('-')\n",
    "        \n",
    "    # Fetching top speed of the cars\n",
    "    try:\n",
    "        speed = driver.find_element(By.XPATH,\"//*[text()='Top Speed']/following-sibling::div\")\n",
    "        top_speed.append(speed.text)\n",
    "    except NoSuchElementException:\n",
    "        top_speed.append('-')\n",
    "        \n",
    "    # Fetching height of the cars\n",
    "    try:\n",
    "        hgt = driver.find_element(By.XPATH,\"//*[text()='Height']/following-sibling::div\")\n",
    "        height.append(hgt.text.replace('mm',''))\n",
    "    except NoSuchElementException:\n",
    "        height.append('-')\n",
    "        \n",
    "    # Fetching width of the cars\n",
    "    try:\n",
    "        wth = driver.find_element(By.XPATH,\"//*[text()='Width']/following-sibling::div\")\n",
    "        width.append(wth.text.replace('mm',''))\n",
    "    except NoSuchElementException:\n",
    "        width.append('-')\n",
    "        \n",
    "    # Fetching length of the cars\n",
    "    try:\n",
    "        lth = driver.find_element(By.XPATH,\"//*[text()='Length']/following-sibling::div\")\n",
    "        length.append(lth.text.replace('mm',''))\n",
    "    except NoSuchElementException:\n",
    "        length.append('-')\n",
    "        \n",
    "    # Fetching gross weight of the cars\n",
    "    try:\n",
    "        weigh = driver.find_element(By.XPATH,\"//*[text()='Gross Weight']/following-sibling::div\")\n",
    "        weight.append(weigh.text.replace('kg',''))\n",
    "    except NoSuchElementException:\n",
    "        weight.append('-')\n",
    "        \n",
    "    # Fetching Inspection score of the cars\n",
    "    try:\n",
    "        insp = driver.find_element(By.XPATH,\"//div[@class='inspectionRating right-side gsc_col-xs-5 text-right']/span\")\n",
    "        insp_score.append(insp.text)\n",
    "    except NoSuchElementException:\n",
    "        insp_score.append('-')\n"
   ]
  },
  {
   "cell_type": "code",
   "execution_count": 15,
   "id": "3f6a6bd5",
   "metadata": {},
   "outputs": [
    {
     "name": "stdout",
     "output_type": "stream",
     "text": [
      "3672 3672 3672 3672 3672 3672 3672 3672 3672 3672 3672 3672 3672 3672\n"
     ]
    }
   ],
   "source": [
    "# Printing lengths of all the features\n",
    "print(len(seats),len(engine_disp),len(milage),len(color),len(max_power),len(front_brake),len(rear_brake),len(cargo_vol),len(height),len(width),len(length),len(weight),len(insp_score),len(top_speed))\n"
   ]
  },
  {
   "cell_type": "markdown",
   "id": "be91dc02",
   "metadata": {},
   "source": [
    "All the features have same length.\n",
    "\n"
   ]
  },
  {
   "cell_type": "code",
   "execution_count": 16,
   "id": "84bc44d1",
   "metadata": {},
   "outputs": [
    {
     "data": {
      "text/html": [
       "<div>\n",
       "<style scoped>\n",
       "    .dataframe tbody tr th:only-of-type {\n",
       "        vertical-align: middle;\n",
       "    }\n",
       "\n",
       "    .dataframe tbody tr th {\n",
       "        vertical-align: top;\n",
       "    }\n",
       "\n",
       "    .dataframe thead th {\n",
       "        text-align: right;\n",
       "    }\n",
       "</style>\n",
       "<table border=\"1\" class=\"dataframe\">\n",
       "  <thead>\n",
       "    <tr style=\"text-align: right;\">\n",
       "      <th></th>\n",
       "      <th>Car_Name</th>\n",
       "      <th>Fuel_type</th>\n",
       "      <th>Kilometers</th>\n",
       "      <th>Engine_disp</th>\n",
       "      <th>Gear_type</th>\n",
       "      <th>Milage_in_km/ltr</th>\n",
       "      <th>Seating_cap</th>\n",
       "      <th>color</th>\n",
       "      <th>Max_power</th>\n",
       "      <th>front_brake_type</th>\n",
       "      <th>rear_brake_type</th>\n",
       "      <th>cargo_volume</th>\n",
       "      <th>height</th>\n",
       "      <th>width</th>\n",
       "      <th>length</th>\n",
       "      <th>Weight</th>\n",
       "      <th>Insp_score</th>\n",
       "      <th>top_speed</th>\n",
       "      <th>Car_price</th>\n",
       "    </tr>\n",
       "  </thead>\n",
       "  <tbody>\n",
       "    <tr>\n",
       "      <th>0</th>\n",
       "      <td>2016 Hyundai Grand i10</td>\n",
       "      <td>Petrol</td>\n",
       "      <td>27,592 kms</td>\n",
       "      <td>1197</td>\n",
       "      <td>Manual</td>\n",
       "      <td>18.9</td>\n",
       "      <td>5</td>\n",
       "      <td>White</td>\n",
       "      <td>82</td>\n",
       "      <td>Disc</td>\n",
       "      <td>Drum</td>\n",
       "      <td>256-liters</td>\n",
       "      <td>1520</td>\n",
       "      <td>1660</td>\n",
       "      <td>3765</td>\n",
       "      <td>-</td>\n",
       "      <td>8.5</td>\n",
       "      <td>165 Kmph</td>\n",
       "      <td>4.77 Lakh</td>\n",
       "    </tr>\n",
       "    <tr>\n",
       "      <th>1</th>\n",
       "      <td>2016 Toyota Camry</td>\n",
       "      <td>Petrol</td>\n",
       "      <td>60,343 kms</td>\n",
       "      <td>2494</td>\n",
       "      <td>Automatic</td>\n",
       "      <td>12.98</td>\n",
       "      <td>5</td>\n",
       "      <td>Grey Metal</td>\n",
       "      <td>178.4</td>\n",
       "      <td>Ventilated Disc</td>\n",
       "      <td>Solid Disc</td>\n",
       "      <td>436-litres</td>\n",
       "      <td>1480</td>\n",
       "      <td>1825</td>\n",
       "      <td>4850</td>\n",
       "      <td>2000</td>\n",
       "      <td>8.5</td>\n",
       "      <td>210 Kmph</td>\n",
       "      <td>16.66 Lakh</td>\n",
       "    </tr>\n",
       "    <tr>\n",
       "      <th>2</th>\n",
       "      <td>2018 Honda City</td>\n",
       "      <td>Petrol</td>\n",
       "      <td>89,340 kms</td>\n",
       "      <td>1497</td>\n",
       "      <td>Manual</td>\n",
       "      <td>17.4</td>\n",
       "      <td>5</td>\n",
       "      <td>Golden brown</td>\n",
       "      <td>117.6</td>\n",
       "      <td>Ventilated Disc</td>\n",
       "      <td>Drum</td>\n",
       "      <td>510</td>\n",
       "      <td>1495</td>\n",
       "      <td>1695</td>\n",
       "      <td>4440</td>\n",
       "      <td>1436</td>\n",
       "      <td>8</td>\n",
       "      <td>189 kmph</td>\n",
       "      <td>7.71 Lakh</td>\n",
       "    </tr>\n",
       "    <tr>\n",
       "      <th>3</th>\n",
       "      <td>2018 Honda Jazz</td>\n",
       "      <td>Petrol</td>\n",
       "      <td>64,554 kms</td>\n",
       "      <td>1199</td>\n",
       "      <td>Automatic</td>\n",
       "      <td>18.2</td>\n",
       "      <td>5</td>\n",
       "      <td>Golden Brown Metallic</td>\n",
       "      <td>88.7</td>\n",
       "      <td>Disc</td>\n",
       "      <td>Drum</td>\n",
       "      <td>354-litres</td>\n",
       "      <td>1544</td>\n",
       "      <td>1694</td>\n",
       "      <td>3955</td>\n",
       "      <td>-</td>\n",
       "      <td>9</td>\n",
       "      <td>172 Kmph</td>\n",
       "      <td>6.89 Lakh</td>\n",
       "    </tr>\n",
       "    <tr>\n",
       "      <th>4</th>\n",
       "      <td>2017 Hyundai Verna</td>\n",
       "      <td>Petrol</td>\n",
       "      <td>60,238 kms</td>\n",
       "      <td>1591</td>\n",
       "      <td>Automatic</td>\n",
       "      <td>17.01</td>\n",
       "      <td>5</td>\n",
       "      <td>Pure white</td>\n",
       "      <td>121.3</td>\n",
       "      <td>Disc</td>\n",
       "      <td>Drum</td>\n",
       "      <td>465-litres</td>\n",
       "      <td>1475</td>\n",
       "      <td>1700</td>\n",
       "      <td>4375</td>\n",
       "      <td>-</td>\n",
       "      <td>8.5</td>\n",
       "      <td>196 Kmph</td>\n",
       "      <td>8.55 Lakh</td>\n",
       "    </tr>\n",
       "  </tbody>\n",
       "</table>\n",
       "</div>"
      ],
      "text/plain": [
       "                 Car_Name Fuel_type  Kilometers Engine_disp  Gear_type  \\\n",
       "0  2016 Hyundai Grand i10    Petrol  27,592 kms       1197      Manual   \n",
       "1       2016 Toyota Camry    Petrol  60,343 kms       2494   Automatic   \n",
       "2         2018 Honda City    Petrol  89,340 kms       1497      Manual   \n",
       "3         2018 Honda Jazz    Petrol  64,554 kms       1199   Automatic   \n",
       "4      2017 Hyundai Verna    Petrol  60,238 kms       1591   Automatic   \n",
       "\n",
       "  Milage_in_km/ltr Seating_cap                  color Max_power  \\\n",
       "0             18.9           5                  White        82   \n",
       "1            12.98           5             Grey Metal     178.4   \n",
       "2             17.4           5           Golden brown     117.6   \n",
       "3             18.2           5  Golden Brown Metallic      88.7   \n",
       "4            17.01           5             Pure white     121.3   \n",
       "\n",
       "  front_brake_type rear_brake_type cargo_volume height  width length Weight  \\\n",
       "0             Disc            Drum   256-liters   1520   1660   3765      -   \n",
       "1  Ventilated Disc      Solid Disc   436-litres   1480   1825   4850   2000   \n",
       "2  Ventilated Disc            Drum          510   1495   1695   4440   1436   \n",
       "3             Disc            Drum   354-litres  1544   1694   3955       -   \n",
       "4             Disc            Drum   465-litres   1475   1700   4375      -   \n",
       "\n",
       "  Insp_score top_speed   Car_price  \n",
       "0        8.5  165 Kmph   4.77 Lakh  \n",
       "1        8.5  210 Kmph  16.66 Lakh  \n",
       "2          8  189 kmph   7.71 Lakh  \n",
       "3          9  172 Kmph   6.89 Lakh  \n",
       "4        8.5  196 Kmph   8.55 Lakh  "
      ]
     },
     "execution_count": 16,
     "metadata": {},
     "output_type": "execute_result"
    }
   ],
   "source": [
    "# Creating a dataframe of scraped data\n",
    "data = list(zip(Carbrand,fuel,kmsdriven,engine_disp,transmission,milage,seats,color,max_power,front_brake,rear_brake,cargo_vol,height,width,length,weight,insp_score,top_speed,carprice))\n",
    "df_car_price = pd.DataFrame(data, columns = [\"Car_Name\",\"Fuel_type\",\"Kilometers\",\"Engine_disp\",\"Gear_type\",\"Milage_in_km/ltr\",\"Seating_cap\",\"color\",\"Max_power\",\"front_brake_type\",\"rear_brake_type\",\"cargo_volume\",\"height\",\"width\",\"length\",\"Weight\",\"Insp_score\",\"top_speed\",\"Car_price\"])\n",
    "df_car_price.head()"
   ]
  },
  {
   "cell_type": "code",
   "execution_count": 17,
   "id": "f1493e71",
   "metadata": {},
   "outputs": [],
   "source": [
    "# Saving the scraped data into excel file\n",
    "df_car_price.to_csv(\"UsedCarsDetails.csv\")"
   ]
  },
  {
   "cell_type": "code",
   "execution_count": null,
   "id": "d2df87f5",
   "metadata": {},
   "outputs": [],
   "source": []
  },
  {
   "cell_type": "code",
   "execution_count": null,
   "id": "be4c9476",
   "metadata": {},
   "outputs": [],
   "source": []
  }
 ],
 "metadata": {
  "kernelspec": {
   "display_name": "Python 3 (ipykernel)",
   "language": "python",
   "name": "python3"
  },
  "language_info": {
   "codemirror_mode": {
    "name": "ipython",
    "version": 3
   },
   "file_extension": ".py",
   "mimetype": "text/x-python",
   "name": "python",
   "nbconvert_exporter": "python",
   "pygments_lexer": "ipython3",
   "version": "3.9.12"
  }
 },
 "nbformat": 4,
 "nbformat_minor": 5
}
